{
 "cells": [
  {
   "cell_type": "markdown",
   "metadata": {},
   "source": [
    "## What are the most in demand skills for the most popular data roles?"
   ]
  },
  {
   "cell_type": "markdown",
   "metadata": {},
   "source": [
    "First I'll import everything I'll need, just as before"
   ]
  },
  {
   "cell_type": "code",
   "execution_count": 1,
   "metadata": {},
   "outputs": [],
   "source": [
    "import matplotlib.pyplot as plt\n",
    "import seaborn as sns\n",
    "import pandas as pd\n",
    "import ast\n",
    "from datasets import load_dataset"
   ]
  },
  {
   "cell_type": "markdown",
   "metadata": {},
   "source": [
    "These warnings are not important, and don't impact what I am trying to do. I don't get them in VSCode but you might if you are viewing on GitHub."
   ]
  },
  {
   "cell_type": "code",
   "execution_count": 2,
   "metadata": {},
   "outputs": [],
   "source": [
    "#Loading in the dataframe\n",
    "df = pd.read_csv('hf://datasets/lukebarousse/data_jobs/data_jobs.csv')"
   ]
  },
  {
   "cell_type": "code",
   "execution_count": 3,
   "metadata": {},
   "outputs": [
    {
     "data": {
      "text/html": [
       "<div>\n",
       "<style scoped>\n",
       "    .dataframe tbody tr th:only-of-type {\n",
       "        vertical-align: middle;\n",
       "    }\n",
       "\n",
       "    .dataframe tbody tr th {\n",
       "        vertical-align: top;\n",
       "    }\n",
       "\n",
       "    .dataframe thead th {\n",
       "        text-align: right;\n",
       "    }\n",
       "</style>\n",
       "<table border=\"1\" class=\"dataframe\">\n",
       "  <thead>\n",
       "    <tr style=\"text-align: right;\">\n",
       "      <th></th>\n",
       "      <th>job_title_short</th>\n",
       "      <th>job_title</th>\n",
       "      <th>job_location</th>\n",
       "      <th>job_via</th>\n",
       "      <th>job_schedule_type</th>\n",
       "      <th>job_work_from_home</th>\n",
       "      <th>search_location</th>\n",
       "      <th>job_posted_date</th>\n",
       "      <th>job_no_degree_mention</th>\n",
       "      <th>job_health_insurance</th>\n",
       "      <th>job_country</th>\n",
       "      <th>salary_rate</th>\n",
       "      <th>salary_year_avg</th>\n",
       "      <th>salary_hour_avg</th>\n",
       "      <th>company_name</th>\n",
       "      <th>job_skills</th>\n",
       "      <th>job_type_skills</th>\n",
       "    </tr>\n",
       "  </thead>\n",
       "  <tbody>\n",
       "    <tr>\n",
       "      <th>50</th>\n",
       "      <td>Machine Learning Engineer</td>\n",
       "      <td>Sr ML Engineer - Research &amp; NLP (Remote)</td>\n",
       "      <td>Toronto, ON, Canada</td>\n",
       "      <td>via Careers At BenchSci</td>\n",
       "      <td>Full-time</td>\n",
       "      <td>False</td>\n",
       "      <td>Canada</td>\n",
       "      <td>2023-08-24 13:40:48</td>\n",
       "      <td>False</td>\n",
       "      <td>False</td>\n",
       "      <td>Canada</td>\n",
       "      <td>NaN</td>\n",
       "      <td>NaN</td>\n",
       "      <td>NaN</td>\n",
       "      <td>BenchSci</td>\n",
       "      <td>['python', 'sql', 'pytorch', 'pandas']</td>\n",
       "      <td>{'libraries': ['pytorch', 'pandas'], 'programm...</td>\n",
       "    </tr>\n",
       "    <tr>\n",
       "      <th>59</th>\n",
       "      <td>Data Engineer</td>\n",
       "      <td>Data Engineer with Dremio Experience</td>\n",
       "      <td>Toronto, ON, Canada</td>\n",
       "      <td>via LinkedIn</td>\n",
       "      <td>Contractor</td>\n",
       "      <td>False</td>\n",
       "      <td>Canada</td>\n",
       "      <td>2023-08-28 13:35:13</td>\n",
       "      <td>True</td>\n",
       "      <td>False</td>\n",
       "      <td>Canada</td>\n",
       "      <td>NaN</td>\n",
       "      <td>NaN</td>\n",
       "      <td>NaN</td>\n",
       "      <td>Iris Software Inc.</td>\n",
       "      <td>['sql', 'hadoop', 'kubernetes']</td>\n",
       "      <td>{'libraries': ['hadoop'], 'other': ['kubernete...</td>\n",
       "    </tr>\n",
       "    <tr>\n",
       "      <th>81</th>\n",
       "      <td>Data Analyst</td>\n",
       "      <td>Business Data Analyst</td>\n",
       "      <td>Regina, SK, Canada</td>\n",
       "      <td>via ZipRecruiter</td>\n",
       "      <td>Full-time</td>\n",
       "      <td>False</td>\n",
       "      <td>Canada</td>\n",
       "      <td>2023-03-01 13:28:04</td>\n",
       "      <td>False</td>\n",
       "      <td>False</td>\n",
       "      <td>Canada</td>\n",
       "      <td>NaN</td>\n",
       "      <td>NaN</td>\n",
       "      <td>NaN</td>\n",
       "      <td>027 Parks Culture and Sport</td>\n",
       "      <td>NaN</td>\n",
       "      <td>NaN</td>\n",
       "    </tr>\n",
       "  </tbody>\n",
       "</table>\n",
       "</div>"
      ],
      "text/plain": [
       "              job_title_short                                 job_title  \\\n",
       "50  Machine Learning Engineer  Sr ML Engineer - Research & NLP (Remote)   \n",
       "59              Data Engineer      Data Engineer with Dremio Experience   \n",
       "81               Data Analyst                     Business Data Analyst   \n",
       "\n",
       "           job_location                  job_via job_schedule_type  \\\n",
       "50  Toronto, ON, Canada  via Careers At BenchSci         Full-time   \n",
       "59  Toronto, ON, Canada             via LinkedIn        Contractor   \n",
       "81   Regina, SK, Canada         via ZipRecruiter         Full-time   \n",
       "\n",
       "    job_work_from_home search_location      job_posted_date  \\\n",
       "50               False          Canada  2023-08-24 13:40:48   \n",
       "59               False          Canada  2023-08-28 13:35:13   \n",
       "81               False          Canada  2023-03-01 13:28:04   \n",
       "\n",
       "    job_no_degree_mention  job_health_insurance job_country salary_rate  \\\n",
       "50                  False                 False      Canada         NaN   \n",
       "59                   True                 False      Canada         NaN   \n",
       "81                  False                 False      Canada         NaN   \n",
       "\n",
       "    salary_year_avg  salary_hour_avg                 company_name  \\\n",
       "50              NaN              NaN                     BenchSci   \n",
       "59              NaN              NaN           Iris Software Inc.   \n",
       "81              NaN              NaN  027 Parks Culture and Sport   \n",
       "\n",
       "                                job_skills  \\\n",
       "50  ['python', 'sql', 'pytorch', 'pandas']   \n",
       "59         ['sql', 'hadoop', 'kubernetes']   \n",
       "81                                     NaN   \n",
       "\n",
       "                                      job_type_skills  \n",
       "50  {'libraries': ['pytorch', 'pandas'], 'programm...  \n",
       "59  {'libraries': ['hadoop'], 'other': ['kubernete...  \n",
       "81                                                NaN  "
      ]
     },
     "execution_count": 3,
     "metadata": {},
     "output_type": "execute_result"
    }
   ],
   "source": [
    "#Narrowing down the country to Canada again\n",
    "df_CA = df[df['job_country'] == 'Canada']\n",
    "\n",
    "#Head function as before to check that everything is working\n",
    "df_CA.head(3)"
   ]
  },
  {
   "cell_type": "markdown",
   "metadata": {},
   "source": [
    "# The job skills column is a string, so first I will convert it to a list"
   ]
  },
  {
   "cell_type": "code",
   "execution_count": 4,
   "metadata": {},
   "outputs": [
    {
     "name": "stderr",
     "output_type": "stream",
     "text": [
      "C:\\Users\\Geoff\\AppData\\Local\\Temp\\ipykernel_36500\\2388436986.py:2: SettingWithCopyWarning: \n",
      "A value is trying to be set on a copy of a slice from a DataFrame.\n",
      "Try using .loc[row_indexer,col_indexer] = value instead\n",
      "\n",
      "See the caveats in the documentation: https://pandas.pydata.org/pandas-docs/stable/user_guide/indexing.html#returning-a-view-versus-a-copy\n",
      "  df_CA['job_skills'] = df_CA['job_skills'].dropna()\n"
     ]
    },
    {
     "data": {
      "text/plain": [
       "50                   ['python', 'sql', 'pytorch', 'pandas']\n",
       "59                          ['sql', 'hadoop', 'kubernetes']\n",
       "81                                                      NaN\n",
       "85                                    ['python', 'pytorch']\n",
       "98                 ['python', 'aws', 'databricks', 'spark']\n",
       "                                ...                        \n",
       "785317    ['sql', 'python', 'sql server', 'snowflake', '...\n",
       "785327                                     ['sql', 'azure']\n",
       "785339    ['sql', 'python', 'sql server', 'mysql', 'post...\n",
       "785511    ['sql', 'nosql', 'python', 'java', 'cassandra'...\n",
       "785643                                    ['word', 'excel']\n",
       "Name: job_skills, Length: 16029, dtype: object"
      ]
     },
     "execution_count": 4,
     "metadata": {},
     "output_type": "execute_result"
    }
   ],
   "source": [
    "#First we remove NA values\n",
    "df_CA['job_skills'] = df_CA['job_skills'].dropna()\n",
    "\n",
    "#This line to see what we are working with\n",
    "df_CA['job_skills']\n"
   ]
  },
  {
   "cell_type": "code",
   "execution_count": 5,
   "metadata": {},
   "outputs": [
    {
     "name": "stderr",
     "output_type": "stream",
     "text": [
      "C:\\Users\\Geoff\\AppData\\Local\\Temp\\ipykernel_36500\\1730901648.py:14: SettingWithCopyWarning: \n",
      "A value is trying to be set on a copy of a slice from a DataFrame.\n",
      "Try using .loc[row_indexer,col_indexer] = value instead\n",
      "\n",
      "See the caveats in the documentation: https://pandas.pydata.org/pandas-docs/stable/user_guide/indexing.html#returning-a-view-versus-a-copy\n",
      "  df_CA['split_skills'] = split_skills\n"
     ]
    },
    {
     "data": {
      "text/plain": [
       "50                 [['python', 'sql', 'pytorch', 'pandas']]\n",
       "59                        [['sql', 'hadoop', 'kubernetes']]\n",
       "81                                                       []\n",
       "85                                  [['python', 'pytorch']]\n",
       "98               [['python', 'aws', 'databricks', 'spark']]\n",
       "                                ...                        \n",
       "785317    [['sql', 'python', 'sql server', 'snowflake', ...\n",
       "785327                                   [['sql', 'azure']]\n",
       "785339    [['sql', 'python', 'sql server', 'mysql', 'pos...\n",
       "785511    [['sql', 'nosql', 'python', 'java', 'cassandra...\n",
       "785643                                  [['word', 'excel']]\n",
       "Name: split_skills, Length: 16029, dtype: object"
      ]
     },
     "execution_count": 5,
     "metadata": {},
     "output_type": "execute_result"
    }
   ],
   "source": [
    "\n",
    "# Initialize an empty list to store the split skills for the new column\n",
    "split_skills = []\n",
    "\n",
    "# For loop to split the skills and add them to the new column\n",
    "for i in df_CA['job_skills']:\n",
    "    if pd.notna(i):  # Check if the value is not NaN or None\n",
    "        # Split the skills by comma and strip whitespace\n",
    "        split_skills.append([skill.strip() for skill in i.split(',')])\n",
    "    else:\n",
    "        # Handle missing values by appending an empty list\n",
    "        split_skills.append([])\n",
    "\n",
    "# Add the new column to the DataFrame\n",
    "df_CA['split_skills'] = split_skills\n",
    "\n",
    "df_CA['split_skills']"
   ]
  },
  {
   "cell_type": "code",
   "execution_count": 6,
   "metadata": {},
   "outputs": [
    {
     "data": {
      "text/html": [
       "<div>\n",
       "<style scoped>\n",
       "    .dataframe tbody tr th:only-of-type {\n",
       "        vertical-align: middle;\n",
       "    }\n",
       "\n",
       "    .dataframe tbody tr th {\n",
       "        vertical-align: top;\n",
       "    }\n",
       "\n",
       "    .dataframe thead th {\n",
       "        text-align: right;\n",
       "    }\n",
       "</style>\n",
       "<table border=\"1\" class=\"dataframe\">\n",
       "  <thead>\n",
       "    <tr style=\"text-align: right;\">\n",
       "      <th></th>\n",
       "      <th>job_title</th>\n",
       "      <th>job_skills</th>\n",
       "      <th>split_skills</th>\n",
       "    </tr>\n",
       "  </thead>\n",
       "  <tbody>\n",
       "    <tr>\n",
       "      <th>50</th>\n",
       "      <td>Sr ML Engineer - Research &amp; NLP (Remote)</td>\n",
       "      <td>['python', 'sql', 'pytorch', 'pandas']</td>\n",
       "      <td>['python'</td>\n",
       "    </tr>\n",
       "    <tr>\n",
       "      <th>50</th>\n",
       "      <td>Sr ML Engineer - Research &amp; NLP (Remote)</td>\n",
       "      <td>['python', 'sql', 'pytorch', 'pandas']</td>\n",
       "      <td>'sql'</td>\n",
       "    </tr>\n",
       "    <tr>\n",
       "      <th>50</th>\n",
       "      <td>Sr ML Engineer - Research &amp; NLP (Remote)</td>\n",
       "      <td>['python', 'sql', 'pytorch', 'pandas']</td>\n",
       "      <td>'pytorch'</td>\n",
       "    </tr>\n",
       "    <tr>\n",
       "      <th>50</th>\n",
       "      <td>Sr ML Engineer - Research &amp; NLP (Remote)</td>\n",
       "      <td>['python', 'sql', 'pytorch', 'pandas']</td>\n",
       "      <td>'pandas']</td>\n",
       "    </tr>\n",
       "    <tr>\n",
       "      <th>59</th>\n",
       "      <td>Data Engineer with Dremio Experience</td>\n",
       "      <td>['sql', 'hadoop', 'kubernetes']</td>\n",
       "      <td>['sql'</td>\n",
       "    </tr>\n",
       "    <tr>\n",
       "      <th>...</th>\n",
       "      <td>...</td>\n",
       "      <td>...</td>\n",
       "      <td>...</td>\n",
       "    </tr>\n",
       "    <tr>\n",
       "      <th>785511</th>\n",
       "      <td>Data Engineer</td>\n",
       "      <td>['sql', 'nosql', 'python', 'java', 'cassandra'...</td>\n",
       "      <td>'spark'</td>\n",
       "    </tr>\n",
       "    <tr>\n",
       "      <th>785511</th>\n",
       "      <td>Data Engineer</td>\n",
       "      <td>['sql', 'nosql', 'python', 'java', 'cassandra'...</td>\n",
       "      <td>'airflow'</td>\n",
       "    </tr>\n",
       "    <tr>\n",
       "      <th>785511</th>\n",
       "      <td>Data Engineer</td>\n",
       "      <td>['sql', 'nosql', 'python', 'java', 'cassandra'...</td>\n",
       "      <td>'kafka']</td>\n",
       "    </tr>\n",
       "    <tr>\n",
       "      <th>785643</th>\n",
       "      <td>Analyste</td>\n",
       "      <td>['word', 'excel']</td>\n",
       "      <td>['word'</td>\n",
       "    </tr>\n",
       "    <tr>\n",
       "      <th>785643</th>\n",
       "      <td>Analyste</td>\n",
       "      <td>['word', 'excel']</td>\n",
       "      <td>'excel']</td>\n",
       "    </tr>\n",
       "  </tbody>\n",
       "</table>\n",
       "<p>94073 rows × 3 columns</p>\n",
       "</div>"
      ],
      "text/plain": [
       "                                       job_title  \\\n",
       "50      Sr ML Engineer - Research & NLP (Remote)   \n",
       "50      Sr ML Engineer - Research & NLP (Remote)   \n",
       "50      Sr ML Engineer - Research & NLP (Remote)   \n",
       "50      Sr ML Engineer - Research & NLP (Remote)   \n",
       "59          Data Engineer with Dremio Experience   \n",
       "...                                          ...   \n",
       "785511                             Data Engineer   \n",
       "785511                             Data Engineer   \n",
       "785511                             Data Engineer   \n",
       "785643                                  Analyste   \n",
       "785643                                  Analyste   \n",
       "\n",
       "                                               job_skills split_skills  \n",
       "50                 ['python', 'sql', 'pytorch', 'pandas']    ['python'  \n",
       "50                 ['python', 'sql', 'pytorch', 'pandas']        'sql'  \n",
       "50                 ['python', 'sql', 'pytorch', 'pandas']    'pytorch'  \n",
       "50                 ['python', 'sql', 'pytorch', 'pandas']    'pandas']  \n",
       "59                        ['sql', 'hadoop', 'kubernetes']       ['sql'  \n",
       "...                                                   ...          ...  \n",
       "785511  ['sql', 'nosql', 'python', 'java', 'cassandra'...      'spark'  \n",
       "785511  ['sql', 'nosql', 'python', 'java', 'cassandra'...    'airflow'  \n",
       "785511  ['sql', 'nosql', 'python', 'java', 'cassandra'...     'kafka']  \n",
       "785643                                  ['word', 'excel']      ['word'  \n",
       "785643                                  ['word', 'excel']     'excel']  \n",
       "\n",
       "[94073 rows x 3 columns]"
      ]
     },
     "execution_count": 6,
     "metadata": {},
     "output_type": "execute_result"
    }
   ],
   "source": [
    "df_skills = df_CA.explode('split_skills')\n",
    "\n",
    "df_skills[['job_title','job_skills','split_skills']]\n"
   ]
  },
  {
   "cell_type": "markdown",
   "metadata": {},
   "source": [
    "lets clean up the split_skills column"
   ]
  },
  {
   "cell_type": "code",
   "execution_count": null,
   "metadata": {},
   "outputs": [
    {
     "data": {
      "text/plain": [
       "50         'python'\n",
       "50            'sql'\n",
       "50        'pytorch'\n",
       "50         'pandas'\n",
       "59            'sql'\n",
       "            ...    \n",
       "785511      'spark'\n",
       "785511    'airflow'\n",
       "785511      'kafka'\n",
       "785643       'word'\n",
       "785643      'excel'\n",
       "Name: split_skills, Length: 94073, dtype: object"
      ]
     },
     "execution_count": 23,
     "metadata": {},
     "output_type": "execute_result"
    }
   ],
   "source": [
    "df_skills['split_skills'] = df_skills['split_skills'].str.replace(\"[\",\"\")\n",
    "#Here's a copied line from above, just with \"]\" instead of \"[\"\n",
    "df_skills['split_skills'] = df_skills['split_skills'].str.replace(\"]\",\"\")\n",
    "\n",
    "#This is here to check that removing the square brackets worked\n",
    "df_skills['split_skills']"
   ]
  },
  {
   "cell_type": "markdown",
   "metadata": {},
   "source": [
    "## Next, lets have a look at the size of the number of skills, pertaining to each job title"
   ]
  },
  {
   "cell_type": "code",
   "execution_count": 24,
   "metadata": {},
   "outputs": [
    {
     "data": {
      "text/plain": [
       "split_skills  job_title_short      \n",
       "'airflow'     Business Analyst           10\n",
       "              Cloud Engineer             17\n",
       "              Data Analyst               31\n",
       "              Data Engineer            1022\n",
       "              Data Scientist             84\n",
       "                                       ... \n",
       "'zoom'        Data Scientist              8\n",
       "              Senior Data Analyst         3\n",
       "              Senior Data Engineer        5\n",
       "              Senior Data Scientist       3\n",
       "              Software Engineer          12\n",
       "Length: 1485, dtype: int64"
      ]
     },
     "execution_count": 24,
     "metadata": {},
     "output_type": "execute_result"
    }
   ],
   "source": [
    "df_skills_count = df_skills.groupby(['split_skills','job_title_short']).size()\n",
    "\n",
    "df_skills_count\n"
   ]
  },
  {
   "cell_type": "markdown",
   "metadata": {},
   "source": [
    "Interesting, lets check what type of object df_skills_count is"
   ]
  },
  {
   "cell_type": "code",
   "execution_count": 25,
   "metadata": {},
   "outputs": [
    {
     "data": {
      "text/plain": [
       "pandas.core.series.Series"
      ]
     },
     "execution_count": 25,
     "metadata": {},
     "output_type": "execute_result"
    }
   ],
   "source": [
    "#lets check what type of object this is\n",
    "type(df_skills_count)"
   ]
  },
  {
   "cell_type": "markdown",
   "metadata": {},
   "source": [
    "this is of the type \"series\" which isn't what we want. We want this to be a data frame, so lets change that\n"
   ]
  },
  {
   "cell_type": "code",
   "execution_count": 26,
   "metadata": {},
   "outputs": [
    {
     "data": {
      "text/html": [
       "<div>\n",
       "<style scoped>\n",
       "    .dataframe tbody tr th:only-of-type {\n",
       "        vertical-align: middle;\n",
       "    }\n",
       "\n",
       "    .dataframe tbody tr th {\n",
       "        vertical-align: top;\n",
       "    }\n",
       "\n",
       "    .dataframe thead th {\n",
       "        text-align: right;\n",
       "    }\n",
       "</style>\n",
       "<table border=\"1\" class=\"dataframe\">\n",
       "  <thead>\n",
       "    <tr style=\"text-align: right;\">\n",
       "      <th></th>\n",
       "      <th>split_skills</th>\n",
       "      <th>job_title_short</th>\n",
       "      <th>skill_count</th>\n",
       "    </tr>\n",
       "  </thead>\n",
       "  <tbody>\n",
       "    <tr>\n",
       "      <th>0</th>\n",
       "      <td>'airflow'</td>\n",
       "      <td>Business Analyst</td>\n",
       "      <td>10</td>\n",
       "    </tr>\n",
       "    <tr>\n",
       "      <th>1</th>\n",
       "      <td>'airflow'</td>\n",
       "      <td>Cloud Engineer</td>\n",
       "      <td>17</td>\n",
       "    </tr>\n",
       "    <tr>\n",
       "      <th>2</th>\n",
       "      <td>'airflow'</td>\n",
       "      <td>Data Analyst</td>\n",
       "      <td>31</td>\n",
       "    </tr>\n",
       "    <tr>\n",
       "      <th>3</th>\n",
       "      <td>'airflow'</td>\n",
       "      <td>Data Engineer</td>\n",
       "      <td>1022</td>\n",
       "    </tr>\n",
       "    <tr>\n",
       "      <th>4</th>\n",
       "      <td>'airflow'</td>\n",
       "      <td>Data Scientist</td>\n",
       "      <td>84</td>\n",
       "    </tr>\n",
       "    <tr>\n",
       "      <th>...</th>\n",
       "      <td>...</td>\n",
       "      <td>...</td>\n",
       "      <td>...</td>\n",
       "    </tr>\n",
       "    <tr>\n",
       "      <th>1480</th>\n",
       "      <td>'zoom'</td>\n",
       "      <td>Data Scientist</td>\n",
       "      <td>8</td>\n",
       "    </tr>\n",
       "    <tr>\n",
       "      <th>1481</th>\n",
       "      <td>'zoom'</td>\n",
       "      <td>Senior Data Analyst</td>\n",
       "      <td>3</td>\n",
       "    </tr>\n",
       "    <tr>\n",
       "      <th>1482</th>\n",
       "      <td>'zoom'</td>\n",
       "      <td>Senior Data Engineer</td>\n",
       "      <td>5</td>\n",
       "    </tr>\n",
       "    <tr>\n",
       "      <th>1483</th>\n",
       "      <td>'zoom'</td>\n",
       "      <td>Senior Data Scientist</td>\n",
       "      <td>3</td>\n",
       "    </tr>\n",
       "    <tr>\n",
       "      <th>1484</th>\n",
       "      <td>'zoom'</td>\n",
       "      <td>Software Engineer</td>\n",
       "      <td>12</td>\n",
       "    </tr>\n",
       "  </tbody>\n",
       "</table>\n",
       "<p>1485 rows × 3 columns</p>\n",
       "</div>"
      ],
      "text/plain": [
       "     split_skills        job_title_short  skill_count\n",
       "0       'airflow'       Business Analyst           10\n",
       "1       'airflow'         Cloud Engineer           17\n",
       "2       'airflow'           Data Analyst           31\n",
       "3       'airflow'          Data Engineer         1022\n",
       "4       'airflow'         Data Scientist           84\n",
       "...           ...                    ...          ...\n",
       "1480       'zoom'         Data Scientist            8\n",
       "1481       'zoom'    Senior Data Analyst            3\n",
       "1482       'zoom'   Senior Data Engineer            5\n",
       "1483       'zoom'  Senior Data Scientist            3\n",
       "1484       'zoom'      Software Engineer           12\n",
       "\n",
       "[1485 rows x 3 columns]"
      ]
     },
     "execution_count": 26,
     "metadata": {},
     "output_type": "execute_result"
    }
   ],
   "source": [
    "#Making df_skills_count into a dataframe\n",
    "df_skills_count = df_skills_count.reset_index(name='skill_count')\n",
    "\n",
    "df_skills_count"
   ]
  },
  {
   "cell_type": "markdown",
   "metadata": {},
   "source": [
    "lets sort the skill counts from the highest value to the lowest"
   ]
  },
  {
   "cell_type": "code",
   "execution_count": 27,
   "metadata": {},
   "outputs": [
    {
     "data": {
      "text/html": [
       "<div>\n",
       "<style scoped>\n",
       "    .dataframe tbody tr th:only-of-type {\n",
       "        vertical-align: middle;\n",
       "    }\n",
       "\n",
       "    .dataframe tbody tr th {\n",
       "        vertical-align: top;\n",
       "    }\n",
       "\n",
       "    .dataframe thead th {\n",
       "        text-align: right;\n",
       "    }\n",
       "</style>\n",
       "<table border=\"1\" class=\"dataframe\">\n",
       "  <thead>\n",
       "    <tr style=\"text-align: right;\">\n",
       "      <th></th>\n",
       "      <th>split_skills</th>\n",
       "      <th>job_title_short</th>\n",
       "      <th>skill_count</th>\n",
       "    </tr>\n",
       "  </thead>\n",
       "  <tbody>\n",
       "    <tr>\n",
       "      <th>1225</th>\n",
       "      <td>'sql'</td>\n",
       "      <td>Data Engineer</td>\n",
       "      <td>3794</td>\n",
       "    </tr>\n",
       "    <tr>\n",
       "      <th>949</th>\n",
       "      <td>'python'</td>\n",
       "      <td>Data Engineer</td>\n",
       "      <td>3567</td>\n",
       "    </tr>\n",
       "    <tr>\n",
       "      <th>108</th>\n",
       "      <td>'azure'</td>\n",
       "      <td>Data Engineer</td>\n",
       "      <td>2217</td>\n",
       "    </tr>\n",
       "    <tr>\n",
       "      <th>98</th>\n",
       "      <td>'aws'</td>\n",
       "      <td>Data Engineer</td>\n",
       "      <td>2030</td>\n",
       "    </tr>\n",
       "    <tr>\n",
       "      <th>1171</th>\n",
       "      <td>'spark'</td>\n",
       "      <td>Data Engineer</td>\n",
       "      <td>1948</td>\n",
       "    </tr>\n",
       "    <tr>\n",
       "      <th>...</th>\n",
       "      <td>...</td>\n",
       "      <td>...</td>\n",
       "      <td>...</td>\n",
       "    </tr>\n",
       "    <tr>\n",
       "      <th>49</th>\n",
       "      <td>'arch'</td>\n",
       "      <td>Machine Learning Engineer</td>\n",
       "      <td>1</td>\n",
       "    </tr>\n",
       "    <tr>\n",
       "      <th>50</th>\n",
       "      <td>'arch'</td>\n",
       "      <td>Senior Data Scientist</td>\n",
       "      <td>1</td>\n",
       "    </tr>\n",
       "    <tr>\n",
       "      <th>1434</th>\n",
       "      <td>'watson'</td>\n",
       "      <td>Data Analyst</td>\n",
       "      <td>1</td>\n",
       "    </tr>\n",
       "    <tr>\n",
       "      <th>10</th>\n",
       "      <td>'airtable'</td>\n",
       "      <td>Business Analyst</td>\n",
       "      <td>1</td>\n",
       "    </tr>\n",
       "    <tr>\n",
       "      <th>1437</th>\n",
       "      <td>'watson'</td>\n",
       "      <td>Senior Data Scientist</td>\n",
       "      <td>1</td>\n",
       "    </tr>\n",
       "  </tbody>\n",
       "</table>\n",
       "<p>1485 rows × 3 columns</p>\n",
       "</div>"
      ],
      "text/plain": [
       "     split_skills            job_title_short  skill_count\n",
       "1225        'sql'              Data Engineer         3794\n",
       "949      'python'              Data Engineer         3567\n",
       "108       'azure'              Data Engineer         2217\n",
       "98          'aws'              Data Engineer         2030\n",
       "1171      'spark'              Data Engineer         1948\n",
       "...           ...                        ...          ...\n",
       "49         'arch'  Machine Learning Engineer            1\n",
       "50         'arch'      Senior Data Scientist            1\n",
       "1434     'watson'               Data Analyst            1\n",
       "10     'airtable'           Business Analyst            1\n",
       "1437     'watson'      Senior Data Scientist            1\n",
       "\n",
       "[1485 rows x 3 columns]"
      ]
     },
     "execution_count": 27,
     "metadata": {},
     "output_type": "execute_result"
    }
   ],
   "source": [
    "df_skills_count.sort_values(by='skill_count',ascending = False, inplace = True)\n",
    "\n",
    "df_skills_count"
   ]
  },
  {
   "cell_type": "markdown",
   "metadata": {},
   "source": [
    "## Next lets narrow our search to the three common roles of data analyst, data engineer and data scientist"
   ]
  },
  {
   "cell_type": "code",
   "execution_count": 52,
   "metadata": {},
   "outputs": [
    {
     "data": {
      "text/plain": [
       "['Data Engineer', 'Data Analyst', 'Senior Data Engineer']"
      ]
     },
     "execution_count": 52,
     "metadata": {},
     "output_type": "execute_result"
    }
   ],
   "source": [
    "job_titles = df_skills_count['job_title_short'].unique().tolist()\n",
    "\n",
    "job_titles = job_titles[:3]\n",
    "\n",
    "job_titles"
   ]
  },
  {
   "cell_type": "markdown",
   "metadata": {},
   "source": [
    "## Lets make some plots"
   ]
  },
  {
   "cell_type": "code",
   "execution_count": null,
   "metadata": {},
   "outputs": [
    {
     "data": {
      "text/plain": [
       "<function matplotlib.pyplot.show(close=None, block=None)>"
      ]
     },
     "execution_count": 57,
     "metadata": {},
     "output_type": "execute_result"
    },
    {
     "data": {
      "image/png": "[encoded data removed]",
      "text/plain": [
       "<Figure size 640x480 with 3 Axes>"
      ]
     },
     "metadata": {},
     "output_type": "display_data"
    }
   ],
   "source": [
    "fig, ax = plt.subplots(len(job_titles), 1)\n",
    "\n",
    "\n",
    "\n",
    "for i, job_title in enumerate(job_titles):\n",
    "    df_plot = df_skills_count[df_skills_count['job_title_short'] == job_title].head(5)\n",
    "    df_plot.plot(kind='barh', x='split_skills', y='skill_count', ax=ax[i], title = job_title)\n",
    "    ax[i].invert_yaxis()\n",
    "    ax[i].set_ylabel(\"\")\n",
    "    ax[i].legend().set_visible(False)\n",
    "\n",
    "#This is so that there is no overlap in tick markers and graph names\n",
    "plt.tight_layout()    \n",
    "\n",
    "plt.show"
   ]
  },
  {
   "cell_type": "markdown",
   "metadata": {},
   "source": [
    "## Next we'll go back to working with df_CA. Lets merge the df_skills_count with df_CA"
   ]
  },
  {
   "cell_type": "code",
   "execution_count": 60,
   "metadata": {},
   "outputs": [],
   "source": [
    "df_job_title_count = df_CA['job_title_short'].value_counts().reset_index(name='jobs_total')"
   ]
  },
  {
   "cell_type": "code",
   "execution_count": 65,
   "metadata": {},
   "outputs": [
    {
     "data": {
      "text/html": [
       "<div>\n",
       "<style scoped>\n",
       "    .dataframe tbody tr th:only-of-type {\n",
       "        vertical-align: middle;\n",
       "    }\n",
       "\n",
       "    .dataframe tbody tr th {\n",
       "        vertical-align: top;\n",
       "    }\n",
       "\n",
       "    .dataframe thead th {\n",
       "        text-align: right;\n",
       "    }\n",
       "</style>\n",
       "<table border=\"1\" class=\"dataframe\">\n",
       "  <thead>\n",
       "    <tr style=\"text-align: right;\">\n",
       "      <th></th>\n",
       "      <th>split_skills</th>\n",
       "      <th>job_title_short</th>\n",
       "      <th>skill_count</th>\n",
       "      <th>jobs_total</th>\n",
       "    </tr>\n",
       "  </thead>\n",
       "  <tbody>\n",
       "    <tr>\n",
       "      <th>0</th>\n",
       "      <td>'sql'</td>\n",
       "      <td>Data Engineer</td>\n",
       "      <td>3794</td>\n",
       "      <td>5828</td>\n",
       "    </tr>\n",
       "    <tr>\n",
       "      <th>1</th>\n",
       "      <td>'python'</td>\n",
       "      <td>Data Engineer</td>\n",
       "      <td>3567</td>\n",
       "      <td>5828</td>\n",
       "    </tr>\n",
       "    <tr>\n",
       "      <th>2</th>\n",
       "      <td>'azure'</td>\n",
       "      <td>Data Engineer</td>\n",
       "      <td>2217</td>\n",
       "      <td>5828</td>\n",
       "    </tr>\n",
       "    <tr>\n",
       "      <th>3</th>\n",
       "      <td>'aws'</td>\n",
       "      <td>Data Engineer</td>\n",
       "      <td>2030</td>\n",
       "      <td>5828</td>\n",
       "    </tr>\n",
       "    <tr>\n",
       "      <th>4</th>\n",
       "      <td>'spark'</td>\n",
       "      <td>Data Engineer</td>\n",
       "      <td>1948</td>\n",
       "      <td>5828</td>\n",
       "    </tr>\n",
       "    <tr>\n",
       "      <th>...</th>\n",
       "      <td>...</td>\n",
       "      <td>...</td>\n",
       "      <td>...</td>\n",
       "      <td>...</td>\n",
       "    </tr>\n",
       "    <tr>\n",
       "      <th>1480</th>\n",
       "      <td>'arch'</td>\n",
       "      <td>Machine Learning Engineer</td>\n",
       "      <td>1</td>\n",
       "      <td>566</td>\n",
       "    </tr>\n",
       "    <tr>\n",
       "      <th>1481</th>\n",
       "      <td>'arch'</td>\n",
       "      <td>Senior Data Scientist</td>\n",
       "      <td>1</td>\n",
       "      <td>589</td>\n",
       "    </tr>\n",
       "    <tr>\n",
       "      <th>1482</th>\n",
       "      <td>'watson'</td>\n",
       "      <td>Data Analyst</td>\n",
       "      <td>1</td>\n",
       "      <td>2365</td>\n",
       "    </tr>\n",
       "    <tr>\n",
       "      <th>1483</th>\n",
       "      <td>'airtable'</td>\n",
       "      <td>Business Analyst</td>\n",
       "      <td>1</td>\n",
       "      <td>1109</td>\n",
       "    </tr>\n",
       "    <tr>\n",
       "      <th>1484</th>\n",
       "      <td>'watson'</td>\n",
       "      <td>Senior Data Scientist</td>\n",
       "      <td>1</td>\n",
       "      <td>589</td>\n",
       "    </tr>\n",
       "  </tbody>\n",
       "</table>\n",
       "<p>1485 rows × 4 columns</p>\n",
       "</div>"
      ],
      "text/plain": [
       "     split_skills            job_title_short  skill_count  jobs_total\n",
       "0           'sql'              Data Engineer         3794        5828\n",
       "1        'python'              Data Engineer         3567        5828\n",
       "2         'azure'              Data Engineer         2217        5828\n",
       "3           'aws'              Data Engineer         2030        5828\n",
       "4         'spark'              Data Engineer         1948        5828\n",
       "...           ...                        ...          ...         ...\n",
       "1480       'arch'  Machine Learning Engineer            1         566\n",
       "1481       'arch'      Senior Data Scientist            1         589\n",
       "1482     'watson'               Data Analyst            1        2365\n",
       "1483   'airtable'           Business Analyst            1        1109\n",
       "1484     'watson'      Senior Data Scientist            1         589\n",
       "\n",
       "[1485 rows x 4 columns]"
      ]
     },
     "execution_count": 65,
     "metadata": {},
     "output_type": "execute_result"
    }
   ],
   "source": [
    "df_skills_percent = pd.merge(df_skills_count, df_job_title_count, how='left',on='job_title_short')\n",
    "\n",
    "df_skills_percent"
   ]
  },
  {
   "cell_type": "code",
   "execution_count": 70,
   "metadata": {},
   "outputs": [
    {
     "data": {
      "text/html": [
       "<div>\n",
       "<style scoped>\n",
       "    .dataframe tbody tr th:only-of-type {\n",
       "        vertical-align: middle;\n",
       "    }\n",
       "\n",
       "    .dataframe tbody tr th {\n",
       "        vertical-align: top;\n",
       "    }\n",
       "\n",
       "    .dataframe thead th {\n",
       "        text-align: right;\n",
       "    }\n",
       "</style>\n",
       "<table border=\"1\" class=\"dataframe\">\n",
       "  <thead>\n",
       "    <tr style=\"text-align: right;\">\n",
       "      <th></th>\n",
       "      <th>split_skills</th>\n",
       "      <th>job_title_short</th>\n",
       "      <th>skill_count</th>\n",
       "      <th>jobs_total</th>\n",
       "      <th>skill_percent</th>\n",
       "      <th>skill_percentage</th>\n",
       "    </tr>\n",
       "  </thead>\n",
       "  <tbody>\n",
       "    <tr>\n",
       "      <th>0</th>\n",
       "      <td>'sql'</td>\n",
       "      <td>Data Engineer</td>\n",
       "      <td>3794</td>\n",
       "      <td>5828</td>\n",
       "      <td>65.099520</td>\n",
       "      <td>65.099520</td>\n",
       "    </tr>\n",
       "    <tr>\n",
       "      <th>1</th>\n",
       "      <td>'python'</td>\n",
       "      <td>Data Engineer</td>\n",
       "      <td>3567</td>\n",
       "      <td>5828</td>\n",
       "      <td>61.204530</td>\n",
       "      <td>61.204530</td>\n",
       "    </tr>\n",
       "    <tr>\n",
       "      <th>2</th>\n",
       "      <td>'azure'</td>\n",
       "      <td>Data Engineer</td>\n",
       "      <td>2217</td>\n",
       "      <td>5828</td>\n",
       "      <td>38.040494</td>\n",
       "      <td>38.040494</td>\n",
       "    </tr>\n",
       "    <tr>\n",
       "      <th>3</th>\n",
       "      <td>'aws'</td>\n",
       "      <td>Data Engineer</td>\n",
       "      <td>2030</td>\n",
       "      <td>5828</td>\n",
       "      <td>34.831846</td>\n",
       "      <td>34.831846</td>\n",
       "    </tr>\n",
       "    <tr>\n",
       "      <th>4</th>\n",
       "      <td>'spark'</td>\n",
       "      <td>Data Engineer</td>\n",
       "      <td>1948</td>\n",
       "      <td>5828</td>\n",
       "      <td>33.424846</td>\n",
       "      <td>33.424846</td>\n",
       "    </tr>\n",
       "    <tr>\n",
       "      <th>...</th>\n",
       "      <td>...</td>\n",
       "      <td>...</td>\n",
       "      <td>...</td>\n",
       "      <td>...</td>\n",
       "      <td>...</td>\n",
       "      <td>...</td>\n",
       "    </tr>\n",
       "    <tr>\n",
       "      <th>1480</th>\n",
       "      <td>'arch'</td>\n",
       "      <td>Machine Learning Engineer</td>\n",
       "      <td>1</td>\n",
       "      <td>566</td>\n",
       "      <td>0.176678</td>\n",
       "      <td>0.176678</td>\n",
       "    </tr>\n",
       "    <tr>\n",
       "      <th>1481</th>\n",
       "      <td>'arch'</td>\n",
       "      <td>Senior Data Scientist</td>\n",
       "      <td>1</td>\n",
       "      <td>589</td>\n",
       "      <td>0.169779</td>\n",
       "      <td>0.169779</td>\n",
       "    </tr>\n",
       "    <tr>\n",
       "      <th>1482</th>\n",
       "      <td>'watson'</td>\n",
       "      <td>Data Analyst</td>\n",
       "      <td>1</td>\n",
       "      <td>2365</td>\n",
       "      <td>0.042283</td>\n",
       "      <td>0.042283</td>\n",
       "    </tr>\n",
       "    <tr>\n",
       "      <th>1483</th>\n",
       "      <td>'airtable'</td>\n",
       "      <td>Business Analyst</td>\n",
       "      <td>1</td>\n",
       "      <td>1109</td>\n",
       "      <td>0.090171</td>\n",
       "      <td>0.090171</td>\n",
       "    </tr>\n",
       "    <tr>\n",
       "      <th>1484</th>\n",
       "      <td>'watson'</td>\n",
       "      <td>Senior Data Scientist</td>\n",
       "      <td>1</td>\n",
       "      <td>589</td>\n",
       "      <td>0.169779</td>\n",
       "      <td>0.169779</td>\n",
       "    </tr>\n",
       "  </tbody>\n",
       "</table>\n",
       "<p>1485 rows × 6 columns</p>\n",
       "</div>"
      ],
      "text/plain": [
       "     split_skills            job_title_short  skill_count  jobs_total  \\\n",
       "0           'sql'              Data Engineer         3794        5828   \n",
       "1        'python'              Data Engineer         3567        5828   \n",
       "2         'azure'              Data Engineer         2217        5828   \n",
       "3           'aws'              Data Engineer         2030        5828   \n",
       "4         'spark'              Data Engineer         1948        5828   \n",
       "...           ...                        ...          ...         ...   \n",
       "1480       'arch'  Machine Learning Engineer            1         566   \n",
       "1481       'arch'      Senior Data Scientist            1         589   \n",
       "1482     'watson'               Data Analyst            1        2365   \n",
       "1483   'airtable'           Business Analyst            1        1109   \n",
       "1484     'watson'      Senior Data Scientist            1         589   \n",
       "\n",
       "      skill_percent  skill_percentage  \n",
       "0         65.099520         65.099520  \n",
       "1         61.204530         61.204530  \n",
       "2         38.040494         38.040494  \n",
       "3         34.831846         34.831846  \n",
       "4         33.424846         33.424846  \n",
       "...             ...               ...  \n",
       "1480       0.176678          0.176678  \n",
       "1481       0.169779          0.169779  \n",
       "1482       0.042283          0.042283  \n",
       "1483       0.090171          0.090171  \n",
       "1484       0.169779          0.169779  \n",
       "\n",
       "[1485 rows x 6 columns]"
      ]
     },
     "execution_count": 70,
     "metadata": {},
     "output_type": "execute_result"
    }
   ],
   "source": [
    "#I multiply by 100 to get into the correct percent format\n",
    "df_skills_percent['skill_percentage'] = 100 * df_skills_percent['skill_count'] / df_skills_percent['jobs_total']\n",
    "\n",
    "df_skills_percent"
   ]
  },
  {
   "cell_type": "code",
   "execution_count": 71,
   "metadata": {},
   "outputs": [
    {
     "data": {
      "text/plain": [
       "<function matplotlib.pyplot.show(close=None, block=None)>"
      ]
     },
     "execution_count": 71,
     "metadata": {},
     "output_type": "execute_result"
    },
    {
     "data": {
      "image/png": "[encoded data removed]",
      "text/plain": [
       "<Figure size 640x480 with 3 Axes>"
      ]
     },
     "metadata": {},
     "output_type": "display_data"
    }
   ],
   "source": [
    "fig, ax = plt.subplots(len(job_titles), 1)\n",
    "\n",
    "\n",
    "\n",
    "for i, job_title in enumerate(job_titles):\n",
    "    df_plot = df_skills_percent[df_skills_percent['job_title_short'] == job_title].head(5)\n",
    "    df_plot.plot(kind='barh', x='split_skills', y='skill_percentage', ax=ax[i], title = job_title)\n",
    "    ax[i].invert_yaxis()\n",
    "    ax[i].set_ylabel(\"\")\n",
    "    ax[i].legend().set_visible(False)\n",
    "\n",
    "#This is so that there is no overlap in tick markers and graph names\n",
    "plt.tight_layout()    \n",
    "\n",
    "plt.show"
   ]
  }
 ],
 "metadata": {
  "kernelspec": {
   "display_name": "Python 3",
   "language": "python",
   "name": "python3"
  },
  "language_info": {
   "codemirror_mode": {
    "name": "ipython",
    "version": 3
   },
   "file_extension": ".py",
   "mimetype": "text/x-python",
   "name": "python",
   "nbconvert_exporter": "python",
   "pygments_lexer": "ipython3",
   "version": "3.11.9"
  }
 },
 "nbformat": 4,
 "nbformat_minor": 2
}
