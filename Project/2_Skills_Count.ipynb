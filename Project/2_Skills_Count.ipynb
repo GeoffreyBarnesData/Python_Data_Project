{
 "cells": [
  {
   "cell_type": "markdown",
   "metadata": {},
   "source": [
    "## What are the most in demand skills for the most popular data roles?"
   ]
  },
  {
   "cell_type": "markdown",
   "metadata": {},
   "source": [
    "First I'll import everything I'll need, just as before"
   ]
  },
  {
   "cell_type": "code",
   "execution_count": 2,
   "metadata": {},
   "outputs": [
    {
     "name": "stderr",
     "output_type": "stream",
     "text": [
      "C:\\Users\\Geoff\\AppData\\Local\\Packages\\PythonSoftwareFoundation.Python.3.11_qbz5n2kfra8p0\\LocalCache\\local-packages\\Python311\\site-packages\\tqdm\\auto.py:21: TqdmWarning: IProgress not found. Please update jupyter and ipywidgets. See https://ipywidgets.readthedocs.io/en/stable/user_install.html\n",
      "  from .autonotebook import tqdm as notebook_tqdm\n"
     ]
    }
   ],
   "source": [
    "import matplotlib.pyplot as plt\n",
    "import seaborn as sns\n",
    "import pandas as pd\n",
    "import ast\n",
    "from datasets import load_dataset"
   ]
  },
  {
   "cell_type": "code",
   "execution_count": 3,
   "metadata": {},
   "outputs": [],
   "source": [
    "#Loading in the dataframe\n",
    "df = pd.read_csv('hf://datasets/lukebarousse/data_jobs/data_jobs.csv')"
   ]
  },
  {
   "cell_type": "code",
   "execution_count": null,
   "metadata": {},
   "outputs": [
    {
     "data": {
      "text/html": [
       "<div>\n",
       "<style scoped>\n",
       "    .dataframe tbody tr th:only-of-type {\n",
       "        vertical-align: middle;\n",
       "    }\n",
       "\n",
       "    .dataframe tbody tr th {\n",
       "        vertical-align: top;\n",
       "    }\n",
       "\n",
       "    .dataframe thead th {\n",
       "        text-align: right;\n",
       "    }\n",
       "</style>\n",
       "<table border=\"1\" class=\"dataframe\">\n",
       "  <thead>\n",
       "    <tr style=\"text-align: right;\">\n",
       "      <th></th>\n",
       "      <th>job_title_short</th>\n",
       "      <th>job_title</th>\n",
       "      <th>job_location</th>\n",
       "      <th>job_via</th>\n",
       "      <th>job_schedule_type</th>\n",
       "      <th>job_work_from_home</th>\n",
       "      <th>search_location</th>\n",
       "      <th>job_posted_date</th>\n",
       "      <th>job_no_degree_mention</th>\n",
       "      <th>job_health_insurance</th>\n",
       "      <th>job_country</th>\n",
       "      <th>salary_rate</th>\n",
       "      <th>salary_year_avg</th>\n",
       "      <th>salary_hour_avg</th>\n",
       "      <th>company_name</th>\n",
       "      <th>job_skills</th>\n",
       "      <th>job_type_skills</th>\n",
       "    </tr>\n",
       "  </thead>\n",
       "  <tbody>\n",
       "    <tr>\n",
       "      <th>50</th>\n",
       "      <td>Machine Learning Engineer</td>\n",
       "      <td>Sr ML Engineer - Research &amp; NLP (Remote)</td>\n",
       "      <td>Toronto, ON, Canada</td>\n",
       "      <td>via Careers At BenchSci</td>\n",
       "      <td>Full-time</td>\n",
       "      <td>False</td>\n",
       "      <td>Canada</td>\n",
       "      <td>2023-08-24 13:40:48</td>\n",
       "      <td>False</td>\n",
       "      <td>False</td>\n",
       "      <td>Canada</td>\n",
       "      <td>NaN</td>\n",
       "      <td>NaN</td>\n",
       "      <td>NaN</td>\n",
       "      <td>BenchSci</td>\n",
       "      <td>['python', 'sql', 'pytorch', 'pandas']</td>\n",
       "      <td>{'libraries': ['pytorch', 'pandas'], 'programm...</td>\n",
       "    </tr>\n",
       "    <tr>\n",
       "      <th>59</th>\n",
       "      <td>Data Engineer</td>\n",
       "      <td>Data Engineer with Dremio Experience</td>\n",
       "      <td>Toronto, ON, Canada</td>\n",
       "      <td>via LinkedIn</td>\n",
       "      <td>Contractor</td>\n",
       "      <td>False</td>\n",
       "      <td>Canada</td>\n",
       "      <td>2023-08-28 13:35:13</td>\n",
       "      <td>True</td>\n",
       "      <td>False</td>\n",
       "      <td>Canada</td>\n",
       "      <td>NaN</td>\n",
       "      <td>NaN</td>\n",
       "      <td>NaN</td>\n",
       "      <td>Iris Software Inc.</td>\n",
       "      <td>['sql', 'hadoop', 'kubernetes']</td>\n",
       "      <td>{'libraries': ['hadoop'], 'other': ['kubernete...</td>\n",
       "    </tr>\n",
       "    <tr>\n",
       "      <th>81</th>\n",
       "      <td>Data Analyst</td>\n",
       "      <td>Business Data Analyst</td>\n",
       "      <td>Regina, SK, Canada</td>\n",
       "      <td>via ZipRecruiter</td>\n",
       "      <td>Full-time</td>\n",
       "      <td>False</td>\n",
       "      <td>Canada</td>\n",
       "      <td>2023-03-01 13:28:04</td>\n",
       "      <td>False</td>\n",
       "      <td>False</td>\n",
       "      <td>Canada</td>\n",
       "      <td>NaN</td>\n",
       "      <td>NaN</td>\n",
       "      <td>NaN</td>\n",
       "      <td>027 Parks Culture and Sport</td>\n",
       "      <td>NaN</td>\n",
       "      <td>NaN</td>\n",
       "    </tr>\n",
       "  </tbody>\n",
       "</table>\n",
       "</div>"
      ],
      "text/plain": [
       "              job_title_short                                 job_title  \\\n",
       "50  Machine Learning Engineer  Sr ML Engineer - Research & NLP (Remote)   \n",
       "59              Data Engineer      Data Engineer with Dremio Experience   \n",
       "81               Data Analyst                     Business Data Analyst   \n",
       "\n",
       "           job_location                  job_via job_schedule_type  \\\n",
       "50  Toronto, ON, Canada  via Careers At BenchSci         Full-time   \n",
       "59  Toronto, ON, Canada             via LinkedIn        Contractor   \n",
       "81   Regina, SK, Canada         via ZipRecruiter         Full-time   \n",
       "\n",
       "    job_work_from_home search_location      job_posted_date  \\\n",
       "50               False          Canada  2023-08-24 13:40:48   \n",
       "59               False          Canada  2023-08-28 13:35:13   \n",
       "81               False          Canada  2023-03-01 13:28:04   \n",
       "\n",
       "    job_no_degree_mention  job_health_insurance job_country salary_rate  \\\n",
       "50                  False                 False      Canada         NaN   \n",
       "59                   True                 False      Canada         NaN   \n",
       "81                  False                 False      Canada         NaN   \n",
       "\n",
       "    salary_year_avg  salary_hour_avg                 company_name  \\\n",
       "50              NaN              NaN                     BenchSci   \n",
       "59              NaN              NaN           Iris Software Inc.   \n",
       "81              NaN              NaN  027 Parks Culture and Sport   \n",
       "\n",
       "                                job_skills  \\\n",
       "50  ['python', 'sql', 'pytorch', 'pandas']   \n",
       "59         ['sql', 'hadoop', 'kubernetes']   \n",
       "81                                     NaN   \n",
       "\n",
       "                                      job_type_skills  \n",
       "50  {'libraries': ['pytorch', 'pandas'], 'programm...  \n",
       "59  {'libraries': ['hadoop'], 'other': ['kubernete...  \n",
       "81                                                NaN  "
      ]
     },
     "execution_count": 17,
     "metadata": {},
     "output_type": "execute_result"
    }
   ],
   "source": [
    "#Narrowing down the country to Canada again\n",
    "df_CA = df[df['job_country'] == 'Canada']\n",
    "\n",
    "df_CA.head(3)"
   ]
  },
  {
   "cell_type": "markdown",
   "metadata": {},
   "source": [
    "# The job skills column is a string, so first I will convert it to a list"
   ]
  },
  {
   "cell_type": "code",
   "execution_count": 18,
   "metadata": {},
   "outputs": [
    {
     "name": "stderr",
     "output_type": "stream",
     "text": [
      "C:\\Users\\Geoff\\AppData\\Local\\Temp\\ipykernel_44728\\2307310184.py:2: SettingWithCopyWarning: \n",
      "A value is trying to be set on a copy of a slice from a DataFrame.\n",
      "Try using .loc[row_indexer,col_indexer] = value instead\n",
      "\n",
      "See the caveats in the documentation: https://pandas.pydata.org/pandas-docs/stable/user_guide/indexing.html#returning-a-view-versus-a-copy\n",
      "  df_CA['job_skills'] = df_CA['job_skills'].dropna()\n"
     ]
    },
    {
     "data": {
      "text/plain": [
       "50                   ['python', 'sql', 'pytorch', 'pandas']\n",
       "59                          ['sql', 'hadoop', 'kubernetes']\n",
       "81                                                      NaN\n",
       "85                                    ['python', 'pytorch']\n",
       "98                 ['python', 'aws', 'databricks', 'spark']\n",
       "                                ...                        \n",
       "785317    ['sql', 'python', 'sql server', 'snowflake', '...\n",
       "785327                                     ['sql', 'azure']\n",
       "785339    ['sql', 'python', 'sql server', 'mysql', 'post...\n",
       "785511    ['sql', 'nosql', 'python', 'java', 'cassandra'...\n",
       "785643                                    ['word', 'excel']\n",
       "Name: job_skills, Length: 16029, dtype: object"
      ]
     },
     "execution_count": 18,
     "metadata": {},
     "output_type": "execute_result"
    }
   ],
   "source": [
    "#First we remove NA values\n",
    "df_CA['job_skills'] = df_CA['job_skills'].dropna()\n",
    "\n",
    "#This line to see what we are working with\n",
    "df_CA['job_skills']\n"
   ]
  },
  {
   "cell_type": "code",
   "execution_count": 23,
   "metadata": {},
   "outputs": [
    {
     "name": "stderr",
     "output_type": "stream",
     "text": [
      "C:\\Users\\Geoff\\AppData\\Local\\Temp\\ipykernel_44728\\3947938809.py:21: SettingWithCopyWarning: \n",
      "A value is trying to be set on a copy of a slice from a DataFrame.\n",
      "Try using .loc[row_indexer,col_indexer] = value instead\n",
      "\n",
      "See the caveats in the documentation: https://pandas.pydata.org/pandas-docs/stable/user_guide/indexing.html#returning-a-view-versus-a-copy\n",
      "  df_CA['split_skills'] = split_skills\n"
     ]
    },
    {
     "data": {
      "text/plain": [
       "50                 [['python', 'sql', 'pytorch', 'pandas']]\n",
       "59                        [['sql', 'hadoop', 'kubernetes']]\n",
       "81                                                       []\n",
       "85                                  [['python', 'pytorch']]\n",
       "98               [['python', 'aws', 'databricks', 'spark']]\n",
       "                                ...                        \n",
       "785317    [['sql', 'python', 'sql server', 'snowflake', ...\n",
       "785327                                   [['sql', 'azure']]\n",
       "785339    [['sql', 'python', 'sql server', 'mysql', 'pos...\n",
       "785511    [['sql', 'nosql', 'python', 'java', 'cassandra...\n",
       "785643                                  [['word', 'excel']]\n",
       "Name: split_skills, Length: 16029, dtype: object"
      ]
     },
     "execution_count": 23,
     "metadata": {},
     "output_type": "execute_result"
    }
   ],
   "source": [
    "\n",
    "# Initialize an empty list to store the split skills for the new column\n",
    "split_skills = []\n",
    "\n",
    "# For loop to split the skills and add them to the new column\n",
    "for i in df_CA['job_skills']:\n",
    "    if pd.notna(i):  # Check if the value is not NaN or None\n",
    "        # Split the skills by comma and strip whitespace\n",
    "        split_skills.append([skill.strip() for skill in i.split(',')])\n",
    "    else:\n",
    "        # Handle missing values by appending an empty list\n",
    "        split_skills.append([])\n",
    "\n",
    "# Add the new column to the DataFrame\n",
    "df_CA['split_skills'] = split_skills\n",
    "\n",
    "df_CA['split_skills']"
   ]
  },
  {
   "cell_type": "code",
   "execution_count": null,
   "metadata": {},
   "outputs": [
    {
     "data": {
      "text/html": [
       "<div>\n",
       "<style scoped>\n",
       "    .dataframe tbody tr th:only-of-type {\n",
       "        vertical-align: middle;\n",
       "    }\n",
       "\n",
       "    .dataframe tbody tr th {\n",
       "        vertical-align: top;\n",
       "    }\n",
       "\n",
       "    .dataframe thead th {\n",
       "        text-align: right;\n",
       "    }\n",
       "</style>\n",
       "<table border=\"1\" class=\"dataframe\">\n",
       "  <thead>\n",
       "    <tr style=\"text-align: right;\">\n",
       "      <th></th>\n",
       "      <th>job_title</th>\n",
       "      <th>job_skills</th>\n",
       "      <th>split_skills</th>\n",
       "    </tr>\n",
       "  </thead>\n",
       "  <tbody>\n",
       "    <tr>\n",
       "      <th>50</th>\n",
       "      <td>Sr ML Engineer - Research &amp; NLP (Remote)</td>\n",
       "      <td>['python', 'sql', 'pytorch', 'pandas']</td>\n",
       "      <td>['python'</td>\n",
       "    </tr>\n",
       "    <tr>\n",
       "      <th>50</th>\n",
       "      <td>Sr ML Engineer - Research &amp; NLP (Remote)</td>\n",
       "      <td>['python', 'sql', 'pytorch', 'pandas']</td>\n",
       "      <td>'sql'</td>\n",
       "    </tr>\n",
       "    <tr>\n",
       "      <th>50</th>\n",
       "      <td>Sr ML Engineer - Research &amp; NLP (Remote)</td>\n",
       "      <td>['python', 'sql', 'pytorch', 'pandas']</td>\n",
       "      <td>'pytorch'</td>\n",
       "    </tr>\n",
       "    <tr>\n",
       "      <th>50</th>\n",
       "      <td>Sr ML Engineer - Research &amp; NLP (Remote)</td>\n",
       "      <td>['python', 'sql', 'pytorch', 'pandas']</td>\n",
       "      <td>'pandas']</td>\n",
       "    </tr>\n",
       "    <tr>\n",
       "      <th>59</th>\n",
       "      <td>Data Engineer with Dremio Experience</td>\n",
       "      <td>['sql', 'hadoop', 'kubernetes']</td>\n",
       "      <td>['sql'</td>\n",
       "    </tr>\n",
       "    <tr>\n",
       "      <th>...</th>\n",
       "      <td>...</td>\n",
       "      <td>...</td>\n",
       "      <td>...</td>\n",
       "    </tr>\n",
       "    <tr>\n",
       "      <th>785511</th>\n",
       "      <td>Data Engineer</td>\n",
       "      <td>['sql', 'nosql', 'python', 'java', 'cassandra'...</td>\n",
       "      <td>'spark'</td>\n",
       "    </tr>\n",
       "    <tr>\n",
       "      <th>785511</th>\n",
       "      <td>Data Engineer</td>\n",
       "      <td>['sql', 'nosql', 'python', 'java', 'cassandra'...</td>\n",
       "      <td>'airflow'</td>\n",
       "    </tr>\n",
       "    <tr>\n",
       "      <th>785511</th>\n",
       "      <td>Data Engineer</td>\n",
       "      <td>['sql', 'nosql', 'python', 'java', 'cassandra'...</td>\n",
       "      <td>'kafka']</td>\n",
       "    </tr>\n",
       "    <tr>\n",
       "      <th>785643</th>\n",
       "      <td>Analyste</td>\n",
       "      <td>['word', 'excel']</td>\n",
       "      <td>['word'</td>\n",
       "    </tr>\n",
       "    <tr>\n",
       "      <th>785643</th>\n",
       "      <td>Analyste</td>\n",
       "      <td>['word', 'excel']</td>\n",
       "      <td>'excel']</td>\n",
       "    </tr>\n",
       "  </tbody>\n",
       "</table>\n",
       "<p>94073 rows × 3 columns</p>\n",
       "</div>"
      ],
      "text/plain": [
       "                                       job_title  \\\n",
       "50      Sr ML Engineer - Research & NLP (Remote)   \n",
       "50      Sr ML Engineer - Research & NLP (Remote)   \n",
       "50      Sr ML Engineer - Research & NLP (Remote)   \n",
       "50      Sr ML Engineer - Research & NLP (Remote)   \n",
       "59          Data Engineer with Dremio Experience   \n",
       "...                                          ...   \n",
       "785511                             Data Engineer   \n",
       "785511                             Data Engineer   \n",
       "785511                             Data Engineer   \n",
       "785643                                  Analyste   \n",
       "785643                                  Analyste   \n",
       "\n",
       "                                               job_skills split_skills  \n",
       "50                 ['python', 'sql', 'pytorch', 'pandas']    ['python'  \n",
       "50                 ['python', 'sql', 'pytorch', 'pandas']        'sql'  \n",
       "50                 ['python', 'sql', 'pytorch', 'pandas']    'pytorch'  \n",
       "50                 ['python', 'sql', 'pytorch', 'pandas']    'pandas']  \n",
       "59                        ['sql', 'hadoop', 'kubernetes']       ['sql'  \n",
       "...                                                   ...          ...  \n",
       "785511  ['sql', 'nosql', 'python', 'java', 'cassandra'...      'spark'  \n",
       "785511  ['sql', 'nosql', 'python', 'java', 'cassandra'...    'airflow'  \n",
       "785511  ['sql', 'nosql', 'python', 'java', 'cassandra'...     'kafka']  \n",
       "785643                                  ['word', 'excel']      ['word'  \n",
       "785643                                  ['word', 'excel']     'excel']  \n",
       "\n",
       "[94073 rows x 3 columns]"
      ]
     },
     "execution_count": 24,
     "metadata": {},
     "output_type": "execute_result"
    }
   ],
   "source": [
    "df_skills = df_CA.explode('split_skills')\n",
    "\n",
    "df_skills[['job_title','job_skills','split_skills']]\n"
   ]
  },
  {
   "cell_type": "code",
   "execution_count": null,
   "metadata": {},
   "outputs": [],
   "source": []
  }
 ],
 "metadata": {
  "kernelspec": {
   "display_name": "Python 3",
   "language": "python",
   "name": "python3"
  },
  "language_info": {
   "codemirror_mode": {
    "name": "ipython",
    "version": 3
   },
   "file_extension": ".py",
   "mimetype": "text/x-python",
   "name": "python",
   "nbconvert_exporter": "python",
   "pygments_lexer": "ipython3",
   "version": "3.11.9"
  }
 },
 "nbformat": 4,
 "nbformat_minor": 2
}
